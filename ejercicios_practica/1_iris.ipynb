{
  "cells": [
    {
      "cell_type": "markdown",
      "metadata": {
        "id": "Ea9CPlvttQda"
      },
      "source": [
        "<a href=\"https://www.inove.com.ar\"><img src=\"https://raw.githubusercontent.com/InoveAlumnos/dataset_analytics_python/master/images/PA%20Banner.png\" width=\"1000\" align=\"center\"></a>\n",
        "\n",
        "\n",
        "# Visualización y limpieza con Pandas\n",
        "\n",
        "Visualización de los datos del dataset iris\\\n",
        "v1.1"
      ]
    },
    {
      "cell_type": "markdown",
      "metadata": {
        "id": "jxYzK15jk-xe"
      },
      "source": [
        "<a href=\"https://www.inove.com.ar\"><img src=\"https://raw.githubusercontent.com/InoveAlumnos/dataset_analytics_python/master/iris_dataset.png\" width=\"1000\" align=\"center\"></a>"
      ]
    },
    {
      "cell_type": "code",
      "execution_count": null,
      "metadata": {
        "id": "xJN8ND5ctQdc"
      },
      "outputs": [],
      "source": [
        "import os\n",
        "import platform\n",
        "\n",
        "import numpy as np\n",
        "import matplotlib.pyplot as plt\n",
        "import seaborn as sns\n",
        "import pandas as pd\n",
        "\n",
        "from  sklearn import  datasets"
      ]
    },
    {
      "cell_type": "code",
      "execution_count": null,
      "metadata": {
        "id": "lEWhoHOyeYfk"
      },
      "outputs": [],
      "source": []
    },
    {
      "cell_type": "markdown",
      "metadata": {
        "id": "v-jK-TsQCwW9"
      },
      "source": [
        "# Recolectar datos\n",
        "<div align=\"center\"><img src=\"https://raw.githubusercontent.com/InoveAlumnos/dataset_analytics_python/master/images/Pipeline1.png\" width=\"1000\" align=\"middle\"></div>"
      ]
    },
    {
      "cell_type": "code",
      "execution_count": null,
      "metadata": {
        "id": "j9x_YEdTtQeC",
        "tags": []
      },
      "outputs": [],
      "source": [
        "iris=datasets.load_iris()\n",
        "df_data = pd.DataFrame(data= iris.data, columns= iris.feature_names)\n",
        "df_target = pd.DataFrame(data= iris.target, columns= ['species'])\n",
        "print(df_data.head())\n",
        "print(df_target.head())"
      ]
    },
    {
      "cell_type": "code",
      "execution_count": null,
      "metadata": {
        "id": "GofGC6M_eYS8"
      },
      "outputs": [],
      "source": [
        "# Generar una copia de df_target llamada \"df_target_categorical\" en el cual se almacenará los tipos de iris como variables categóricas (texto)\n",
        "df_target_categorical = df_target.copy()\n",
        "df_target_categorical"
      ]
    },
    {
      "cell_type": "markdown",
      "metadata": {
        "id": "Q5I6l8ZCFaZ8"
      },
      "source": [
        "# Procesar datos\n",
        "<div align=\"center\"><img src=\"https://raw.githubusercontent.com/InoveAlumnos/dataset_analytics_python/master/images/Pipeline2.png\" width=\"1000\" align=\"middle\"></div>"
      ]
    },
    {
      "cell_type": "code",
      "execution_count": null,
      "metadata": {
        "id": "4RGDkJS_bLw5"
      },
      "outputs": [],
      "source": [
        "# Alumno: Utilizar apply y lambda expresion sobre df_target para modificar la columna \"species\" de df_target_categorical\n",
        "# la lambda debe devolver:\n",
        "# setosa --> si species = 0\n",
        "# versicolor --> si species = 1\n",
        "# virginica --> si species = 2\n",
        "df_target_categorical['species'] = df_target_categorical['species'].apply(lambda x: 'setosa' if x == 0 else ('versicolor' if x == 1 else 'virginica'))\n",
        "df_target_categorical\n",
        "\n",
        "# Tip:\n",
        "# df_target_categorical['species'] = df_target.apply(lambda......"
      ]
    },
    {
      "cell_type": "code",
      "execution_count": null,
      "metadata": {
        "id": "J780B25md6Tu"
      },
      "outputs": [],
      "source": [
        "# Alumno: Observar las primeras filas del nuevo df_target_categorical para corroborar que haya sido correcto el cambio\n",
        "df_target_categorical.head()"
      ]
    },
    {
      "cell_type": "code",
      "execution_count": null,
      "metadata": {
        "id": "sgClA-ymdAlq"
      },
      "outputs": [],
      "source": [
        "# Alumno: Contar cuantas especies de iris hay de cada una en el dataset df_target_categorical\n",
        "especies_iris= df_target_categorical['species'].value_counts()\n",
        "especies_iris"
      ]
    },
    {
      "cell_type": "code",
      "execution_count": null,
      "metadata": {
        "id": "fhzTh4LlcUni"
      },
      "outputs": [],
      "source": [
        "# Concatenar ambos dataset\n",
        "df = pd.concat([df_data, df_target_categorical], axis= 1)\n",
        "df.head()"
      ]
    },
    {
      "cell_type": "code",
      "execution_count": null,
      "metadata": {
        "id": "NN-AOOTee11Z"
      },
      "outputs": [],
      "source": [
        "# Alumno: Analice si hay elementos incompletos en el dataset \"df_data\"\n",
        "df_data.isna().sum()"
      ]
    },
    {
      "cell_type": "code",
      "execution_count": null,
      "metadata": {
        "id": "x88JG9AOeJzx"
      },
      "outputs": [],
      "source": [
        "# Alumno: ¿Cuántas filas/datos hay para analizar?\n",
        "# print(....)\n",
        "df_data.shape\n"
      ]
    },
    {
      "cell_type": "markdown",
      "metadata": {
        "id": "8T_3enyVHYJa"
      },
      "source": [
        "# Explorar datos\n",
        "<div align=\"center\"><img src=\"https://raw.githubusercontent.com/InoveAlumnos/dataset_analytics_python/master/images/Pipeline3.png\" width=\"1000\" align=\"middle\"></div>"
      ]
    },
    {
      "cell_type": "code",
      "execution_count": 41,
      "metadata": {
        "id": "5OZpKcO8Mh3A"
      },
      "outputs": [],
      "source": [
        "# Alumno, separe el dataset \"df\" en un dataset por tipo de iris\n",
        "# df_setosa = ...\n",
        "# df_versicolor = ...\n",
        "# df_verginica = ...\n",
        "df_setosa = df.loc[df['species'] == 'setosa']\n",
        "df_versicolor = df.loc[df['species'] == 'versicolor']\n",
        "df_virginica = df.loc[df['species'] == 'virginica']\n"
      ]
    },
    {
      "cell_type": "code",
      "execution_count": 42,
      "metadata": {
        "id": "vstdWr9uiMEr"
      },
      "outputs": [],
      "source": [
        "# Almuno: Realizar una función que reciba un dataframe como parámetro y grafique\n",
        "# la relación (scatter plot) entre \"petal length (cm)\" (x) y \"petal width (cm)\" (y) de la especie setosa\n",
        "def grafico_setosa(df_data):\n",
        "    plt.scatter(df_setosa['petal length (cm)'], df_setosa['petal width (cm)'])\n",
        "    plt.title('Relación entre Petal Length y Petal Width para Setosa')\n",
        "    plt.xlabel('Petal Length (cm)')\n",
        "    plt.ylabel('Petal Width (cm)')\n",
        "    plt.show()"
      ]
    },
    {
      "cell_type": "code",
      "execution_count": 43,
      "metadata": {
        "id": "k5K0rKwthUqy",
        "colab": {
          "base_uri": "https://localhost:8080/",
          "height": 104
        },
        "outputId": "97f33a28-5e77-419c-9092-39927eecde90"
      },
      "outputs": [
        {
          "output_type": "execute_result",
          "data": {
            "text/plain": [
              "<function __main__.grafico_setosa(df_data)>"
            ],
            "text/html": [
              "<div style=\"max-width:800px; border: 1px solid var(--colab-border-color);\"><style>\n",
              "      pre.function-repr-contents {\n",
              "        overflow-x: auto;\n",
              "        padding: 8px 12px;\n",
              "        max-height: 500px;\n",
              "      }\n",
              "\n",
              "      pre.function-repr-contents.function-repr-contents-collapsed {\n",
              "        cursor: pointer;\n",
              "        max-height: 100px;\n",
              "      }\n",
              "    </style>\n",
              "    <pre style=\"white-space: initial; background:\n",
              "         var(--colab-secondary-surface-color); padding: 8px 12px;\n",
              "         border-bottom: 1px solid var(--colab-border-color);\"><b>grafico_setosa</b><br/>def grafico_setosa(df_data)</pre><pre class=\"function-repr-contents function-repr-contents-collapsed\" style=\"\"><a class=\"filepath\" style=\"display:none\" href=\"#\">/content/&lt;ipython-input-42-1995b5f0ca79&gt;</a>&lt;no docstring&gt;</pre></div>"
            ]
          },
          "metadata": {},
          "execution_count": 43
        }
      ],
      "source": [
        "# Almuno: Utilizar la función generada para graficar la relación con dada dataframe de cada especie\n",
        "grafico_setosa"
      ]
    },
    {
      "cell_type": "code",
      "execution_count": null,
      "metadata": {
        "id": "8IhK5KEDNOEL"
      },
      "outputs": [],
      "source": []
    }
  ],
  "metadata": {
    "colab": {
      "provenance": []
    },
    "kernelspec": {
      "display_name": "Python 3",
      "language": "python",
      "name": "python3"
    },
    "language_info": {
      "codemirror_mode": {
        "name": "ipython",
        "version": 3
      },
      "file_extension": ".py",
      "mimetype": "text/x-python",
      "name": "python",
      "nbconvert_exporter": "python",
      "pygments_lexer": "ipython3",
      "version": "3.8.5"
    }
  },
  "nbformat": 4,
  "nbformat_minor": 0
}